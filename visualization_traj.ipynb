{
 "cells": [
  {
   "cell_type": "code",
   "execution_count": 46,
   "metadata": {
    "collapsed": false
   },
   "outputs": [],
   "source": [
    "import csv, pickle\n",
    "from numpy import *\n",
    "import matplotlib.pyplot as plt\n",
    "import matplotlib\n",
    "from cycler import cycler"
   ]
  },
  {
   "cell_type": "code",
   "execution_count": 227,
   "metadata": {
    "collapsed": true
   },
   "outputs": [],
   "source": [
    "reader = csv.reader(open('models/trajectories.log', 'r'))\n",
    "all_traj = {}\n",
    "prev_book = None\n",
    "prev_c1 = None\n",
    "prev_c2 = None\n",
    "total_traj = 0"
   ]
  },
  {
   "cell_type": "code",
   "execution_count": 228,
   "metadata": {
    "collapsed": false
   },
   "outputs": [
    {
     "name": "stdout",
     "output_type": "stream",
     "text": [
      "1336 20047\n"
     ]
    }
   ],
   "source": [
    "for index, row in enumerate(reader):\n",
    "#     if index == 0:\n",
    "#         continue\n",
    "    if len(row)>0:\n",
    "        book, c1, c2 = row[:3]\n",
    "\n",
    "    if prev_book != book or prev_c1 != c1 or prev_c2 != c2:\n",
    "        prev_book = book\n",
    "        prev_c1 = c1\n",
    "        prev_c2 = c2\n",
    "        if book not in all_traj:\n",
    "            all_traj[book] = {}\n",
    "        all_traj[book][c1+' AND '+c2] = []\n",
    "        total_traj += 1 \n",
    "    else:\n",
    "        #print (array(row[4:], dtype='float32'))\n",
    "        if sum(array(row[4:], dtype='float32'))!=0:\n",
    "            all_traj[book][c1+' AND '+c2].append(array(row[4:], dtype='float32'))\n",
    "        \n",
    "print (len(all_traj), total_traj)\n",
    "rmn_traj = all_traj"
   ]
  },
  {
   "cell_type": "code",
   "execution_count": 229,
   "metadata": {
    "collapsed": true
   },
   "outputs": [],
   "source": [
    "desc_map = {}\n",
    "f = open('models/descriptors.log', 'r')\n",
    "for i, line in enumerate(f):\n",
    "    line = line.split()\n",
    "    desc_map[i] = line[0]"
   ]
  },
  {
   "cell_type": "code",
   "execution_count": 225,
   "metadata": {
    "collapsed": false
   },
   "outputs": [],
   "source": [
    "rmn_descs = desc_map"
   ]
  },
  {
   "cell_type": "code",
   "execution_count": 207,
   "metadata": {
    "collapsed": true
   },
   "outputs": [],
   "source": [
    "plt.style.use('ggplot')\n",
    "color_list = [\"peru\",\"dodgerblue\",\"brown\",\"hotpink\",\n",
    "    \"aquamarine\",\"springgreen\",\"chartreuse\",\"fuchsia\",\n",
    "    \"mediumspringgreen\",\"burlywood\",\"midnightblue\",\"orangered\",\n",
    "    \"olive\",\"darkolivegreen\",\"darkmagenta\",\"mediumvioletred\",\n",
    "    \"darkslateblue\",\"saddlebrown\",\"darkturquoise\",\"cyan\",\n",
    "    \"chocolate\",\"cornflowerblue\",\"blue\",\"red\",\n",
    "    \"navy\",\"steelblue\",\"cadetblue\",\"forestgreen\",\n",
    "    \"black\",\"darkcyan\"]\n",
    "color_list += color_list"
   ]
  },
  {
   "cell_type": "code",
   "execution_count": 208,
   "metadata": {
    "collapsed": true
   },
   "outputs": [],
   "source": [
    "plt.rc('axes', prop_cycle=(cycler('color', color_list)))"
   ]
  },
  {
   "cell_type": "code",
   "execution_count": 209,
   "metadata": {
    "collapsed": true
   },
   "outputs": [],
   "source": [
    "def viz_csv(rmn_traj, rmn_descs,\n",
    "    min_length=10,\n",
    "    smallest_shift=1, max_viz=False,\n",
    "    fig_dir=None):\n",
    "\n",
    "    for book in rmn_traj:\n",
    "        for rel in rmn_traj[book]:\n",
    "            rtraj = rmn_traj[book][rel]\n",
    "            if len(rtraj) > min_length and len(rtraj)<150:\n",
    "\n",
    "                print (book, rel)\n",
    "                plt.close()\n",
    "                rtraj_mat = array(rtraj)\n",
    "\n",
    "                if max_viz:\n",
    "                    plt.title(book + ': ' + rel)\n",
    "                    plt.axis('off')\n",
    "\n",
    "                    max_rtraj = argmax(rtraj_mat, axis=1)\n",
    "                    print (max_rtraj)\n",
    "                    rcenter_inds = compute_centers(max_rtraj, smallest_shift)\n",
    "\n",
    "\n",
    "                    for ind in range(0, len(max_rtraj)):\n",
    "                        topic = max_rtraj[ind]\n",
    "                        plt.axhspan(ind, ind+1, 0.2, 0.4, color=color_list[topic])\n",
    "\n",
    "                        if ind in rcenter_inds:\n",
    "                            loc = (0.43, ind + 0.5)\n",
    "                            plt.annotate(rmn_descs[topic], loc, size=15,\n",
    "                                verticalalignment='center',\n",
    "                                color=color_list[topic])\n",
    "\n",
    "\n",
    "                    plt.xlim(0, 1.0)\n",
    "                    plt.arrow(0.1,0,0.0,len(rtraj),\n",
    "                            head_width=0.1, head_length=len(rtraj)/12, lw=3, \n",
    "                            length_includes_head=True, fc='k', ec='k')\n",
    "\n",
    "                    props = {'ha': 'left', 'va': 'bottom',}\n",
    "                    plt.text(0.0, len(rtraj) / 2, 'TIME', props, rotation=90, size=15)\n",
    "                    props = {'ha': 'left', 'va': 'top',}\n",
    "\n",
    "                if fig_dir is None:\n",
    "                    plt.show()\n",
    "                else:\n",
    "                    chars = rel.split(' AND ')\n",
    "                    fig_name = fig_dir + book + \\\n",
    "                        '__' + chars[0] + '__' + chars[1] + '.png'\n",
    "                    print ('figname = ', fig_name)\n",
    "                    plt.savefig(fig_name)"
   ]
  },
  {
   "cell_type": "code",
   "execution_count": 210,
   "metadata": {
    "collapsed": false
   },
   "outputs": [],
   "source": [
    "def compute_centers(max_traj, smallest_shift):\n",
    "    center_inds = []\n",
    "    prev_topic = max_traj[0]\n",
    "    tstart = 0\n",
    "    for index, topic in enumerate(max_traj):\n",
    "        if topic != prev_topic:\n",
    "            center = int((index-tstart) / 2)\n",
    "            if center > smallest_shift / 2:\n",
    "                center_inds.append(tstart + center)\n",
    "            tstart = index\n",
    "            prev_topic = topic\n",
    "    center = int((index-tstart) / 2)\n",
    "    if index - tstart > smallest_shift:\n",
    "        center_inds.append(tstart + center)\n",
    "\n",
    "    return center_inds"
   ]
  },
  {
   "cell_type": "code",
   "execution_count": 226,
   "metadata": {
    "collapsed": false
   },
   "outputs": [
    {
     "name": "stdout",
     "output_type": "stream",
     "text": [
      "ProblematPollensaBayAndOtherStorie Mr Parker Pyne AND Betty\n",
      "[4 4 4 4 4 4 4 4 4 4 4 4 4]\n",
      "figname =  figs/ProblematPollensaBayAndOtherStorie__Mr Parker Pyne__Betty.png\n",
      "ProblematPollensaBayAndOtherStorie Mr Parker Pyne AND Mrs Chester\n",
      "[4 4 4 4 4 4 4 4 4 4 4 4 4 4 4 4 4 4 4 4 4 4 4 4]\n",
      "figname =  figs/ProblematPollensaBayAndOtherStorie__Mr Parker Pyne__Mrs Chester.png\n",
      "ThirdGirl Norma AND Dr. Stillingfleet\n",
      "[4 4 4 4 4 4 4 4 4 4 4 4 4 4]\n",
      "figname =  figs/ThirdGirl__Norma__Dr. Stillingfleet.png\n",
      "Crash Helen Remington AND Vaughan\n",
      "[4 4 4 4 4 4 4 4 4 4 4 4 4 4]\n",
      "figname =  figs/Crash__Helen Remington__Vaughan.png\n",
      "Crash Catherine AND Vaughan\n",
      "[4 4 4 4 4 4 4 4 4 4 4 4 4 4 4 4 4 4 4 4 4 4 4 4 4 4 4 4 4 4 4 4 4 4 4 4 4\n",
      " 4 4 4 4 4 4 4 4 4 4 4 4 4 4 4 4 4 4 4 4 4 4 4 4 4 4 4 4 4 4 4 4 4 4 4 4 4\n",
      " 4 4 4 4 4 4 4 4 4 4 4 4 4 4 4 4 4 4 4 4 4 4 4 4 4 4 4 4 4 4 4 4 4 4 4 4 4\n",
      " 4 4 4]\n",
      "figname =  figs/Crash__Catherine__Vaughan.png\n",
      "JustAfterSunset David AND Willa\n",
      "[4 4 4 4 4 4 4 4 4 4 4 4 4 4 4 4 4 4 4 4 4 4 4 4 4 4 4 4 4 4 4 4 4]\n",
      "figname =  figs/JustAfterSunset__David__Willa.png\n",
      "JustAfterSunset Pickering AND Deke\n",
      "[4 4 4 4 4 4 4 4 4 4 4 4]\n",
      "figname =  figs/JustAfterSunset__Pickering__Deke.png\n",
      "JustAfterSunset Betsy AND Curtis\n",
      "[4 4 4 4 4 4 4 4 4 4 4 4 4 4]\n",
      "figname =  figs/JustAfterSunset__Betsy__Curtis.png\n",
      "KeyofKnowledge Flynn AND Dana\n",
      "[4 4 4 4 4 4 4 4 4 4 4 4 4 4 4 4 4 4 4 4 4 4 4 4 4 4 4 4 4 4 4 4 4]\n",
      "figname =  figs/KeyofKnowledge__Flynn__Dana.png\n",
      "KeyofKnowledge Kane AND Dana\n",
      "[4 4 4 4 4 4 4 4 4 4 4 4 4 4 4 4 4 4 4 4]\n",
      "figname =  figs/KeyofKnowledge__Kane__Dana.png\n",
      "MartianTimeSlip Manfred AND Jack\n",
      "[4 4 4 4 4 4 4 4 4 4 4 4 4 4 4]\n",
      "figname =  figs/MartianTimeSlip__Manfred__Jack.png\n",
      "AdventureofTheChristmasPuddingAndO Mrs Lacey AND Poirot\n",
      "[4 4 4 4 4 4 4 4 4 4 4 4 4]\n",
      "figname =  figs/AdventureofTheChristmasPuddingAndO__Mrs Lacey__Poirot.png\n",
      "AdventureofTheChristmasPuddingAndO George AND Poirot\n",
      "[4 4 4 4 4 4 4 4 4 4 4 4 4 4 4]\n",
      "figname =  figs/AdventureofTheChristmasPuddingAndO__George__Poirot.png\n",
      "DevilAndSherlockHolmesTalesof Jimmy Ryan AND Ryan\n",
      "[4 4 4 4 4 4 4 4 4 4 4 4 4 4]\n",
      "figname =  figs/DevilAndSherlockHolmesTalesof__Jimmy Ryan__Ryan.png\n",
      "Faefever Dani AND Rowena\n",
      "[4 4 4 4 4 4 4 4 4 4 4 4]\n",
      "figname =  figs/Faefever__Dani__Rowena.png\n",
      "RunningWiththeDemon Josie AND John Ross\n",
      "[4 4 4 4 4 4 4 4 4 4 4 4 4 4 4 4 4 4 4 4 4 4 4 4 4 4 4 4 4 4 4 4 4 4 4 4]\n",
      "figname =  figs/RunningWiththeDemon__Josie__John Ross.png\n",
      "QueenofSorcery Lelldorin AND Garion\n",
      "[4 4 4 4 4 4 4 4 4 4 4 4 4 4 4 4 4 4 4 4 4 4 4 4 4 4 4 4 4 4 4 4 4 4 4 4 4\n",
      " 4]\n",
      "figname =  figs/QueenofSorcery__Lelldorin__Garion.png\n",
      "QueenofSorcery Mandorallen AND Garion\n",
      "[4 4 4 4 4 4 4 4 4 4 4 4 4]\n",
      "figname =  figs/QueenofSorcery__Mandorallen__Garion.png\n",
      "WyrmlingHordetheSeventhBookof Talon AND Daylan\n",
      "[4 4 4 4 4 4 4 4 4 4 4 4 4 4 4 4 4 4 4]\n",
      "figname =  figs/WyrmlingHordetheSeventhBookof__Talon__Daylan.png\n",
      "WyrmlingHordetheSeventhBookof Daughtry AND Rhianna\n",
      "[4 4 4 4 4 4 4 4 4 4 4 4 4 4 4 4 4 4 4 4 4 4 4 4 4 4]\n",
      "figname =  figs/WyrmlingHordetheSeventhBookof__Daughtry__Rhianna.png\n",
      "WyrmlingHordetheSeventhBookof Bairn AND Rhianna\n",
      "[4 4 4 4 4 4 4 4 4 4 4]\n",
      "figname =  figs/WyrmlingHordetheSeventhBookof__Bairn__Rhianna.png\n",
      "DeathIntheClouds Japp AND Poirot\n",
      "[4 4 4 4 4 4 4 4 4 4 4 4 4 4 4 4 4]\n",
      "figname =  figs/DeathIntheClouds__Japp__Poirot.png\n",
      "DeathIntheClouds Jane AND Norman\n",
      "[4 4 4 4 4 4 4 4 4 4 4 4 4 4 4 4 4 4 4 4 4 4 4 4]\n",
      "figname =  figs/DeathIntheClouds__Jane__Norman.png\n",
      "Fahrenheit451 Montag AND Faber\n",
      "[4 4 4 4 4 4 4 4 4 4 4 4 4 4 4 4 4 4 4 4 4 4 4 4 4 4 4 4 4 4 4 4 4 4 4 4 4\n",
      " 4 4 4 4 4 4 4 4 4 4 4 4 4 4 4 4 4 4 4 4 4 4]\n",
      "figname =  figs/Fahrenheit451__Montag__Faber.png\n",
      "ThunderballaJamesBondNovel Bond AND Leiter\n",
      "[4 4 4 4 4 4 4 4 4 4 4 4 4 4 4 4 4 4 4 4 4 4 4 4 4 4 4 4 4 4 4 4 4 4 4 4 4\n",
      " 4 4 4 4 4 4 4 4 4 4 4 4 4 4 4 4 4 4 4 4 4 4 4 4 4 4 4 4 4 4 4 4 4 4 4 4 4\n",
      " 4 4 4 4 4 4 4 4 4 4 4 4 4 4 4 4 4 4 4 4 4 4 4 4 4 4]\n",
      "figname =  figs/ThunderballaJamesBondNovel__Bond__Leiter.png\n",
      "Treasure Ybarra AND Rubin\n",
      "[4 4 4 4 4 4 4 4 4 4 4]\n",
      "figname =  figs/Treasure__Ybarra__Rubin.png\n",
      "Treasure Hala AND Pitt\n",
      "[4 4 4 4 4 4 4 4 4 4 4]\n",
      "figname =  figs/Treasure__Hala__Pitt.png\n",
      "HoundofTheBaskervilles Holmes AND Watson\n",
      "[4 4 4 4 4 4 4 4 4 4 4 4 4 4 4 4 4 4 4 4 4 4 4 4 4 4 4 4 4 4 4 4 4 4]\n",
      "figname =  figs/HoundofTheBaskervilles__Holmes__Watson.png\n",
      "IncredibleShrinkingMan Scott AND Marty\n",
      "[4 4 4 4 4 4 4 4 4 4 4 4 4 4 4 4 4 4 4 4 4 4 4 4]\n",
      "figname =  figs/IncredibleShrinkingMan__Scott__Marty.png\n",
      "MoonIsDown Annie AND Joseph\n",
      "[4 4 4 4 4 4 4 4 4 4 4 4]\n",
      "figname =  figs/MoonIsDown__Annie__Joseph.png\n",
      "eliot-silas-242 Dunstan AND Silas\n",
      "[4 4 4 4 4 4 4 4 4 4 4 4 4 4]\n",
      "figname =  figs/eliot-silas-242__Dunstan__Silas.png\n",
      "eliot-silas-242 Nancy AND Godfrey\n",
      "[4 4 4 4 4 4 4 4 4 4 4 4 4 4 4 4 4 4 4 4 4 4 4 4 4 4 4 4 4 4 4 4 4 4 4 4 4\n",
      " 4 4 4 4 4 4 4 4 4 4 4 4 4 4 4 4 4]\n",
      "figname =  figs/eliot-silas-242__Nancy__Godfrey.png\n",
      "Eclipse Alice AND Jacob\n",
      "[4 4 4 4 4 4 4 4 4 4 4]\n",
      "figname =  figs/Eclipse__Alice__Jacob.png\n",
      "Eclipse Jacob AND Sam\n",
      "[4 4 4 4 4 4 4 4 4 4 4 4 4 4 4 4 4 4]\n",
      "figname =  figs/Eclipse__Jacob__Sam.png\n",
      "BladeItself Glokta AND Bayaz\n",
      "[4 4 4 4 4 4 4 4 4 4 4 4 4 4 4 4]\n",
      "figname =  figs/BladeItself__Glokta__Bayaz.png\n",
      "BladeItself Lord Chamberlain AND Jezal\n",
      "[4 4 4 4 4 4 4 4 4 4 4]\n",
      "figname =  figs/BladeItself__Lord Chamberlain__Jezal.png\n",
      "BladeItself Lord Chamberlain AND Hoff\n",
      "[4 4 4 4 4 4 4 4 4 4 4 4]\n",
      "figname =  figs/BladeItself__Lord Chamberlain__Hoff.png\n",
      "BladeItself Varuz AND Jezal\n",
      "[4 4 4 4 4 4 4 4 4 4 4 4 4 4 4 4 4 4 4 4 4 4 4 4 4 4 4 4 4 4 4 4 4 4 4 4 4\n",
      " 4 4 4 4 4 4 4 4 4 4 4 4 4 4 4 4 4 4]\n",
      "figname =  figs/BladeItself__Varuz__Jezal.png\n",
      "BladeItself Logen AND Ferro\n",
      "[4 4 4 4 4 4 4 4 4 4 4 4 4]\n",
      "figname =  figs/BladeItself__Logen__Ferro.png\n",
      "MemoirsofAGeishaANovel Mameha AND Sayuri\n",
      "[4 4 4 4 4 4 4 4 4 4 4 4 4 4 4 4 4 4 4 4 4 4 4 4 4 4 4 4 4 4 4]\n",
      "figname =  figs/MemoirsofAGeishaANovel__Mameha__Sayuri.png\n",
      "MemoirsofAGeishaANovel Shojiro AND Mameha\n",
      "[4 4 4 4 4 4 4 4 4 4 4 4 4 4]\n",
      "figname =  figs/MemoirsofAGeishaANovel__Shojiro__Mameha.png\n",
      "MemoirsofAGeishaANovel Mother AND Mameha\n",
      "[4 4 4 4 4 4 4 4 4 4 4 4 4 4 4 4 4 4 4 4 4 4 4 4 4]\n",
      "figname =  figs/MemoirsofAGeishaANovel__Mother__Mameha.png\n",
      "awakn11 Mr. Pontellier AND Mrs. Pontellier\n",
      "[4 4 4 4 4 4 4 4 4 4 4 4]\n",
      "figname =  figs/awakn11__Mr. Pontellier__Mrs. Pontellier.png\n",
      "DancetothePiper Reed AND Edwin\n",
      "[4 4 4 4 4 4 4 4 4 4 4 4]\n",
      "figname =  figs/DancetothePiper__Reed__Edwin.png\n",
      "StorkNaked Dolph AND Nada\n",
      "[4 4 4 4 4 4 4 4 4 4 4 4 4 4 4 4 4 4 4 4 4 4 4 4 4 4 4 4 4 4 4 4 4 4 4 4 4\n",
      " 4 4 4 4 4 4 4 4 4 4 4 4 4 4 4 4 4 4 4 4 4 4 4 4 4 4 4 4]\n",
      "figname =  figs/StorkNaked__Dolph__Nada.png\n",
      "StorkNaked Pyra AND Finn\n",
      "[4 4 4 4 4 4 4 4 4 4 4 4 4 4 4 4 4 4 4 4 4 4 4]\n",
      "figname =  figs/StorkNaked__Pyra__Finn.png\n",
      "StorkNaked Ted AND Monica\n",
      "[4 4 4 4 4 4 4 4 4 4 4 4 4 4 4 4 4 4 4 4 4 4 4 4 4 4 4 4 4 4 4 4 4 4 4 4 4\n",
      " 4 4 4 4 4 4 4 4 4 4 4 4 4 4 4 4 4 4 4 4 4 4 4 4 4 4 4 4 4 4 4 4 4 4 4 4 4\n",
      " 4 4 4 4 4 4 4 4 4 4 4 4 4 4 4 4 4 4 4 4 4 4 4 4 4 4 4 4]\n",
      "figname =  figs/StorkNaked__Ted__Monica.png\n",
      "LightFantastic Twoflower AND Rincewind\n",
      "[4 4 4 4 4 4 4 4 4 4 4 4 4 4 4 4 4 4 4 4 4 4 4 4 4 4 4 4 4 4 4 4 4 4 4 4 4\n",
      " 4 4 4 4 4 4 4 4 4 4 4 4 4 4 4 4 4 4 4 4 4 4 4 4 4 4 4 4 4 4 4 4 4 4 4 4 4\n",
      " 4 4 4 4 4 4 4 4 4 4 4 4 4 4 4 4 4 4 4 4 4 4 4 4 4 4 4 4 4 4 4 4 4 4 4]\n",
      "figname =  figs/LightFantastic__Twoflower__Rincewind.png\n",
      "GrandFinale Jake AND Mrs. Fitz\n",
      "[4 4 4 4 4 4 4 4 4 4 4 4 4]\n",
      "figname =  figs/GrandFinale__Jake__Mrs. Fitz.png\n",
      "GrandFinale Jake AND Berry\n",
      "[4 4 4 4 4 4 4 4 4 4 4 4 4 4 4 4 4 4 4 4 4 4 4 4 4 4 4 4 4 4 4 4 4 4 4 4 4\n",
      " 4 4 4 4 4 4 4 4 4 4 4 4 4 4 4 4 4 4 4 4 4 4 4 4 4 4 4 4 4 4 4 4 4 4 4 4 4\n",
      " 4 4 4 4 4 4 4 4 4 4 4 4 4 4 4 4 4 4 4 4 4 4 4 4 4 4 4 4 4 4 4 4 4 4 4 4 4\n",
      " 4 4]\n"
     ]
    },
    {
     "ename": "KeyboardInterrupt",
     "evalue": "",
     "output_type": "error",
     "traceback": [
      "\u001b[0;31m---------------------------------------------------------------------------\u001b[0m",
      "\u001b[0;31mKeyboardInterrupt\u001b[0m                         Traceback (most recent call last)",
      "\u001b[0;32m<ipython-input-226-0edc965d2b22>\u001b[0m in \u001b[0;36m<module>\u001b[0;34m()\u001b[0m\n\u001b[0;32m----> 1\u001b[0;31m \u001b[0mviz_csv\u001b[0m\u001b[1;33m(\u001b[0m\u001b[0mrmn_traj\u001b[0m\u001b[1;33m,\u001b[0m \u001b[0mrmn_descs\u001b[0m\u001b[1;33m,\u001b[0m \u001b[0mmin_length\u001b[0m\u001b[1;33m=\u001b[0m\u001b[1;36m10\u001b[0m\u001b[1;33m,\u001b[0m \u001b[0mmax_viz\u001b[0m\u001b[1;33m=\u001b[0m\u001b[1;32mTrue\u001b[0m\u001b[1;33m,\u001b[0m \u001b[0mfig_dir\u001b[0m\u001b[1;33m=\u001b[0m\u001b[1;34m'figs/'\u001b[0m\u001b[1;33m,\u001b[0m \u001b[0msmallest_shift\u001b[0m\u001b[1;33m=\u001b[0m\u001b[1;36m1\u001b[0m\u001b[1;33m)\u001b[0m\u001b[1;33m\u001b[0m\u001b[0m\n\u001b[0m",
      "\u001b[0;32m<ipython-input-209-c2428beee7f1>\u001b[0m in \u001b[0;36mviz_csv\u001b[0;34m(rmn_traj, rmn_descs, min_length, smallest_shift, max_viz, fig_dir)\u001b[0m\n\u001b[1;32m     24\u001b[0m                     \u001b[1;32mfor\u001b[0m \u001b[0mind\u001b[0m \u001b[1;32min\u001b[0m \u001b[0mrange\u001b[0m\u001b[1;33m(\u001b[0m\u001b[1;36m0\u001b[0m\u001b[1;33m,\u001b[0m \u001b[0mlen\u001b[0m\u001b[1;33m(\u001b[0m\u001b[0mmax_rtraj\u001b[0m\u001b[1;33m)\u001b[0m\u001b[1;33m)\u001b[0m\u001b[1;33m:\u001b[0m\u001b[1;33m\u001b[0m\u001b[0m\n\u001b[1;32m     25\u001b[0m                         \u001b[0mtopic\u001b[0m \u001b[1;33m=\u001b[0m \u001b[0mmax_rtraj\u001b[0m\u001b[1;33m[\u001b[0m\u001b[0mind\u001b[0m\u001b[1;33m]\u001b[0m\u001b[1;33m\u001b[0m\u001b[0m\n\u001b[0;32m---> 26\u001b[0;31m                         \u001b[0mplt\u001b[0m\u001b[1;33m.\u001b[0m\u001b[0maxhspan\u001b[0m\u001b[1;33m(\u001b[0m\u001b[0mind\u001b[0m\u001b[1;33m,\u001b[0m \u001b[0mind\u001b[0m\u001b[1;33m+\u001b[0m\u001b[1;36m1\u001b[0m\u001b[1;33m,\u001b[0m \u001b[1;36m0.2\u001b[0m\u001b[1;33m,\u001b[0m \u001b[1;36m0.4\u001b[0m\u001b[1;33m,\u001b[0m \u001b[0mcolor\u001b[0m\u001b[1;33m=\u001b[0m\u001b[0mcolor_list\u001b[0m\u001b[1;33m[\u001b[0m\u001b[0mtopic\u001b[0m\u001b[1;33m]\u001b[0m\u001b[1;33m)\u001b[0m\u001b[1;33m\u001b[0m\u001b[0m\n\u001b[0m\u001b[1;32m     27\u001b[0m \u001b[1;33m\u001b[0m\u001b[0m\n\u001b[1;32m     28\u001b[0m                         \u001b[1;32mif\u001b[0m \u001b[0mind\u001b[0m \u001b[1;32min\u001b[0m \u001b[0mrcenter_inds\u001b[0m\u001b[1;33m:\u001b[0m\u001b[1;33m\u001b[0m\u001b[0m\n",
      "\u001b[0;32mC:\\Users\\KWW\\Anaconda3\\lib\\site-packages\\matplotlib\\pyplot.py\u001b[0m in \u001b[0;36maxhspan\u001b[0;34m(ymin, ymax, xmin, xmax, hold, **kwargs)\u001b[0m\n\u001b[1;32m   2596\u001b[0m         \u001b[0max\u001b[0m\u001b[1;33m.\u001b[0m\u001b[0mhold\u001b[0m\u001b[1;33m(\u001b[0m\u001b[0mhold\u001b[0m\u001b[1;33m)\u001b[0m\u001b[1;33m\u001b[0m\u001b[0m\n\u001b[1;32m   2597\u001b[0m     \u001b[1;32mtry\u001b[0m\u001b[1;33m:\u001b[0m\u001b[1;33m\u001b[0m\u001b[0m\n\u001b[0;32m-> 2598\u001b[0;31m         \u001b[0mret\u001b[0m \u001b[1;33m=\u001b[0m \u001b[0max\u001b[0m\u001b[1;33m.\u001b[0m\u001b[0maxhspan\u001b[0m\u001b[1;33m(\u001b[0m\u001b[0mymin\u001b[0m\u001b[1;33m,\u001b[0m \u001b[0mymax\u001b[0m\u001b[1;33m,\u001b[0m \u001b[0mxmin\u001b[0m\u001b[1;33m=\u001b[0m\u001b[0mxmin\u001b[0m\u001b[1;33m,\u001b[0m \u001b[0mxmax\u001b[0m\u001b[1;33m=\u001b[0m\u001b[0mxmax\u001b[0m\u001b[1;33m,\u001b[0m \u001b[1;33m**\u001b[0m\u001b[0mkwargs\u001b[0m\u001b[1;33m)\u001b[0m\u001b[1;33m\u001b[0m\u001b[0m\n\u001b[0m\u001b[1;32m   2599\u001b[0m     \u001b[1;32mfinally\u001b[0m\u001b[1;33m:\u001b[0m\u001b[1;33m\u001b[0m\u001b[0m\n\u001b[1;32m   2600\u001b[0m         \u001b[0max\u001b[0m\u001b[1;33m.\u001b[0m\u001b[0mhold\u001b[0m\u001b[1;33m(\u001b[0m\u001b[0mwashold\u001b[0m\u001b[1;33m)\u001b[0m\u001b[1;33m\u001b[0m\u001b[0m\n",
      "\u001b[0;32mC:\\Users\\KWW\\Anaconda3\\lib\\site-packages\\matplotlib\\axes\\_axes.py\u001b[0m in \u001b[0;36maxhspan\u001b[0;34m(self, ymin, ymax, xmin, xmax, **kwargs)\u001b[0m\n\u001b[1;32m    831\u001b[0m         \u001b[0mp\u001b[0m \u001b[1;33m=\u001b[0m \u001b[0mmpatches\u001b[0m\u001b[1;33m.\u001b[0m\u001b[0mPolygon\u001b[0m\u001b[1;33m(\u001b[0m\u001b[0mverts\u001b[0m\u001b[1;33m,\u001b[0m \u001b[1;33m**\u001b[0m\u001b[0mkwargs\u001b[0m\u001b[1;33m)\u001b[0m\u001b[1;33m\u001b[0m\u001b[0m\n\u001b[1;32m    832\u001b[0m         \u001b[0mp\u001b[0m\u001b[1;33m.\u001b[0m\u001b[0mset_transform\u001b[0m\u001b[1;33m(\u001b[0m\u001b[0mtrans\u001b[0m\u001b[1;33m)\u001b[0m\u001b[1;33m\u001b[0m\u001b[0m\n\u001b[0;32m--> 833\u001b[0;31m         \u001b[0mself\u001b[0m\u001b[1;33m.\u001b[0m\u001b[0madd_patch\u001b[0m\u001b[1;33m(\u001b[0m\u001b[0mp\u001b[0m\u001b[1;33m)\u001b[0m\u001b[1;33m\u001b[0m\u001b[0m\n\u001b[0m\u001b[1;32m    834\u001b[0m         \u001b[0mself\u001b[0m\u001b[1;33m.\u001b[0m\u001b[0mautoscale_view\u001b[0m\u001b[1;33m(\u001b[0m\u001b[0mscalex\u001b[0m\u001b[1;33m=\u001b[0m\u001b[1;32mFalse\u001b[0m\u001b[1;33m)\u001b[0m\u001b[1;33m\u001b[0m\u001b[0m\n\u001b[1;32m    835\u001b[0m         \u001b[1;32mreturn\u001b[0m \u001b[0mp\u001b[0m\u001b[1;33m\u001b[0m\u001b[0m\n",
      "\u001b[0;32mC:\\Users\\KWW\\Anaconda3\\lib\\site-packages\\matplotlib\\axes\\_base.py\u001b[0m in \u001b[0;36madd_patch\u001b[0;34m(self, p)\u001b[0m\n\u001b[1;32m   1776\u001b[0m         \u001b[1;32mif\u001b[0m \u001b[0mp\u001b[0m\u001b[1;33m.\u001b[0m\u001b[0mget_clip_path\u001b[0m\u001b[1;33m(\u001b[0m\u001b[1;33m)\u001b[0m \u001b[1;32mis\u001b[0m \u001b[1;32mNone\u001b[0m\u001b[1;33m:\u001b[0m\u001b[1;33m\u001b[0m\u001b[0m\n\u001b[1;32m   1777\u001b[0m             \u001b[0mp\u001b[0m\u001b[1;33m.\u001b[0m\u001b[0mset_clip_path\u001b[0m\u001b[1;33m(\u001b[0m\u001b[0mself\u001b[0m\u001b[1;33m.\u001b[0m\u001b[0mpatch\u001b[0m\u001b[1;33m)\u001b[0m\u001b[1;33m\u001b[0m\u001b[0m\n\u001b[0;32m-> 1778\u001b[0;31m         \u001b[0mself\u001b[0m\u001b[1;33m.\u001b[0m\u001b[0m_update_patch_limits\u001b[0m\u001b[1;33m(\u001b[0m\u001b[0mp\u001b[0m\u001b[1;33m)\u001b[0m\u001b[1;33m\u001b[0m\u001b[0m\n\u001b[0m\u001b[1;32m   1779\u001b[0m         \u001b[0mself\u001b[0m\u001b[1;33m.\u001b[0m\u001b[0mpatches\u001b[0m\u001b[1;33m.\u001b[0m\u001b[0mappend\u001b[0m\u001b[1;33m(\u001b[0m\u001b[0mp\u001b[0m\u001b[1;33m)\u001b[0m\u001b[1;33m\u001b[0m\u001b[0m\n\u001b[1;32m   1780\u001b[0m         \u001b[0mp\u001b[0m\u001b[1;33m.\u001b[0m\u001b[0m_remove_method\u001b[0m \u001b[1;33m=\u001b[0m \u001b[1;32mlambda\u001b[0m \u001b[0mh\u001b[0m\u001b[1;33m:\u001b[0m \u001b[0mself\u001b[0m\u001b[1;33m.\u001b[0m\u001b[0mpatches\u001b[0m\u001b[1;33m.\u001b[0m\u001b[0mremove\u001b[0m\u001b[1;33m(\u001b[0m\u001b[0mh\u001b[0m\u001b[1;33m)\u001b[0m\u001b[1;33m\u001b[0m\u001b[0m\n",
      "\u001b[0;32mC:\\Users\\KWW\\Anaconda3\\lib\\site-packages\\matplotlib\\axes\\_base.py\u001b[0m in \u001b[0;36m_update_patch_limits\u001b[0;34m(self, patch)\u001b[0m\n\u001b[1;32m   1799\u001b[0m             \u001b[1;32mif\u001b[0m \u001b[0mpatch\u001b[0m\u001b[1;33m.\u001b[0m\u001b[0mget_data_transform\u001b[0m\u001b[1;33m(\u001b[0m\u001b[1;33m)\u001b[0m \u001b[1;33m!=\u001b[0m \u001b[0mself\u001b[0m\u001b[1;33m.\u001b[0m\u001b[0mtransData\u001b[0m\u001b[1;33m:\u001b[0m\u001b[1;33m\u001b[0m\u001b[0m\n\u001b[1;32m   1800\u001b[0m                 patch_to_data = (patch.get_data_transform() -\n\u001b[0;32m-> 1801\u001b[0;31m                                  self.transData)\n\u001b[0m\u001b[1;32m   1802\u001b[0m                 \u001b[0mxys\u001b[0m \u001b[1;33m=\u001b[0m \u001b[0mpatch_to_data\u001b[0m\u001b[1;33m.\u001b[0m\u001b[0mtransform\u001b[0m\u001b[1;33m(\u001b[0m\u001b[0mxys\u001b[0m\u001b[1;33m)\u001b[0m\u001b[1;33m\u001b[0m\u001b[0m\n\u001b[1;32m   1803\u001b[0m \u001b[1;33m\u001b[0m\u001b[0m\n",
      "\u001b[0;32mC:\\Users\\KWW\\Anaconda3\\lib\\site-packages\\matplotlib\\transforms.py\u001b[0m in \u001b[0;36m__sub__\u001b[0;34m(self, other)\u001b[0m\n\u001b[1;32m   1267\u001b[0m \u001b[1;33m\u001b[0m\u001b[0m\n\u001b[1;32m   1268\u001b[0m         \u001b[1;32mfor\u001b[0m \u001b[0mremainder\u001b[0m\u001b[1;33m,\u001b[0m \u001b[0msub_tree\u001b[0m \u001b[1;32min\u001b[0m \u001b[0mself\u001b[0m\u001b[1;33m.\u001b[0m\u001b[0m_iter_break_from_left_to_right\u001b[0m\u001b[1;33m(\u001b[0m\u001b[1;33m)\u001b[0m\u001b[1;33m:\u001b[0m\u001b[1;33m\u001b[0m\u001b[0m\n\u001b[0;32m-> 1269\u001b[0;31m             \u001b[1;32mif\u001b[0m \u001b[0msub_tree\u001b[0m \u001b[1;33m==\u001b[0m \u001b[0mother\u001b[0m\u001b[1;33m:\u001b[0m\u001b[1;33m\u001b[0m\u001b[0m\n\u001b[0m\u001b[1;32m   1270\u001b[0m                 \u001b[1;32mreturn\u001b[0m \u001b[0mremainder\u001b[0m\u001b[1;33m\u001b[0m\u001b[0m\n\u001b[1;32m   1271\u001b[0m \u001b[1;33m\u001b[0m\u001b[0m\n",
      "\u001b[0;32mC:\\Users\\KWW\\Anaconda3\\lib\\site-packages\\matplotlib\\transforms.py\u001b[0m in \u001b[0;36m__eq__\u001b[0;34m(self, other)\u001b[0m\n\u001b[1;32m   2089\u001b[0m         \u001b[1;32mif\u001b[0m \u001b[0misinstance\u001b[0m\u001b[1;33m(\u001b[0m\u001b[0mother\u001b[0m\u001b[1;33m,\u001b[0m \u001b[1;33m(\u001b[0m\u001b[0mBlendedAffine2D\u001b[0m\u001b[1;33m,\u001b[0m \u001b[0mBlendedGenericTransform\u001b[0m\u001b[1;33m)\u001b[0m\u001b[1;33m)\u001b[0m\u001b[1;33m:\u001b[0m\u001b[1;33m\u001b[0m\u001b[0m\n\u001b[1;32m   2090\u001b[0m             \u001b[1;32mreturn\u001b[0m \u001b[1;33m(\u001b[0m\u001b[0mself\u001b[0m\u001b[1;33m.\u001b[0m\u001b[0m_x\u001b[0m \u001b[1;33m==\u001b[0m \u001b[0mother\u001b[0m\u001b[1;33m.\u001b[0m\u001b[0m_x\u001b[0m\u001b[1;33m)\u001b[0m \u001b[1;32mand\u001b[0m \u001b[1;33m(\u001b[0m\u001b[0mself\u001b[0m\u001b[1;33m.\u001b[0m\u001b[0m_y\u001b[0m \u001b[1;33m==\u001b[0m \u001b[0mother\u001b[0m\u001b[1;33m.\u001b[0m\u001b[0m_y\u001b[0m\u001b[1;33m)\u001b[0m\u001b[1;33m\u001b[0m\u001b[0m\n\u001b[0;32m-> 2091\u001b[0;31m         \u001b[1;32melif\u001b[0m \u001b[0mself\u001b[0m\u001b[1;33m.\u001b[0m\u001b[0m_x\u001b[0m \u001b[1;33m==\u001b[0m \u001b[0mself\u001b[0m\u001b[1;33m.\u001b[0m\u001b[0m_y\u001b[0m\u001b[1;33m:\u001b[0m\u001b[1;33m\u001b[0m\u001b[0m\n\u001b[0m\u001b[1;32m   2092\u001b[0m             \u001b[1;32mreturn\u001b[0m \u001b[0mself\u001b[0m\u001b[1;33m.\u001b[0m\u001b[0m_x\u001b[0m \u001b[1;33m==\u001b[0m \u001b[0mother\u001b[0m\u001b[1;33m\u001b[0m\u001b[0m\n\u001b[1;32m   2093\u001b[0m         \u001b[1;32melse\u001b[0m\u001b[1;33m:\u001b[0m\u001b[1;33m\u001b[0m\u001b[0m\n",
      "\u001b[0;32mC:\\Users\\KWW\\Anaconda3\\lib\\site-packages\\matplotlib\\transforms.py\u001b[0m in \u001b[0;36m__eq__\u001b[0;34m(self, other)\u001b[0m\n\u001b[1;32m   1656\u001b[0m     \u001b[1;32mdef\u001b[0m \u001b[0m__eq__\u001b[0m\u001b[1;33m(\u001b[0m\u001b[0mself\u001b[0m\u001b[1;33m,\u001b[0m \u001b[0mother\u001b[0m\u001b[1;33m)\u001b[0m\u001b[1;33m:\u001b[0m\u001b[1;33m\u001b[0m\u001b[0m\n\u001b[1;32m   1657\u001b[0m         \u001b[1;32mif\u001b[0m \u001b[0mgetattr\u001b[0m\u001b[1;33m(\u001b[0m\u001b[0mother\u001b[0m\u001b[1;33m,\u001b[0m \u001b[1;34m\"is_affine\"\u001b[0m\u001b[1;33m,\u001b[0m \u001b[1;32mFalse\u001b[0m\u001b[1;33m)\u001b[0m\u001b[1;33m:\u001b[0m\u001b[1;33m\u001b[0m\u001b[0m\n\u001b[0;32m-> 1658\u001b[0;31m             \u001b[1;32mreturn\u001b[0m \u001b[0mnp\u001b[0m\u001b[1;33m.\u001b[0m\u001b[0mall\u001b[0m\u001b[1;33m(\u001b[0m\u001b[0mself\u001b[0m\u001b[1;33m.\u001b[0m\u001b[0mget_matrix\u001b[0m\u001b[1;33m(\u001b[0m\u001b[1;33m)\u001b[0m \u001b[1;33m==\u001b[0m \u001b[0mother\u001b[0m\u001b[1;33m.\u001b[0m\u001b[0mget_matrix\u001b[0m\u001b[1;33m(\u001b[0m\u001b[1;33m)\u001b[0m\u001b[1;33m)\u001b[0m\u001b[1;33m\u001b[0m\u001b[0m\n\u001b[0m\u001b[1;32m   1659\u001b[0m         \u001b[1;32mreturn\u001b[0m \u001b[0mNotImplemented\u001b[0m\u001b[1;33m\u001b[0m\u001b[0m\n\u001b[1;32m   1660\u001b[0m \u001b[1;33m\u001b[0m\u001b[0m\n",
      "\u001b[0;32mC:\\Users\\KWW\\Anaconda3\\lib\\site-packages\\matplotlib\\transforms.py\u001b[0m in \u001b[0;36mget_matrix\u001b[0;34m(self)\u001b[0m\n\u001b[1;32m   1385\u001b[0m \u001b[1;33m\u001b[0m\u001b[0m\n\u001b[1;32m   1386\u001b[0m         \"\"\"\n\u001b[0;32m-> 1387\u001b[0;31m         \u001b[1;32mreturn\u001b[0m \u001b[0mself\u001b[0m\u001b[1;33m.\u001b[0m\u001b[0mget_affine\u001b[0m\u001b[1;33m(\u001b[0m\u001b[1;33m)\u001b[0m\u001b[1;33m.\u001b[0m\u001b[0mget_matrix\u001b[0m\u001b[1;33m(\u001b[0m\u001b[1;33m)\u001b[0m\u001b[1;33m\u001b[0m\u001b[0m\n\u001b[0m\u001b[1;32m   1388\u001b[0m \u001b[1;33m\u001b[0m\u001b[0m\n\u001b[1;32m   1389\u001b[0m     \u001b[1;32mdef\u001b[0m \u001b[0mtransform_point\u001b[0m\u001b[1;33m(\u001b[0m\u001b[0mself\u001b[0m\u001b[1;33m,\u001b[0m \u001b[0mpoint\u001b[0m\u001b[1;33m)\u001b[0m\u001b[1;33m:\u001b[0m\u001b[1;33m\u001b[0m\u001b[0m\n",
      "\u001b[0;32mC:\\Users\\KWW\\Anaconda3\\lib\\site-packages\\matplotlib\\transforms.py\u001b[0m in \u001b[0;36mget_affine\u001b[0;34m(self)\u001b[0m\n\u001b[1;32m   2372\u001b[0m             \u001b[1;32mreturn\u001b[0m \u001b[0mself\u001b[0m\u001b[1;33m.\u001b[0m\u001b[0m_b\u001b[0m\u001b[1;33m.\u001b[0m\u001b[0mget_affine\u001b[0m\u001b[1;33m(\u001b[0m\u001b[1;33m)\u001b[0m\u001b[1;33m\u001b[0m\u001b[0m\n\u001b[1;32m   2373\u001b[0m         \u001b[1;32melse\u001b[0m\u001b[1;33m:\u001b[0m\u001b[1;33m\u001b[0m\u001b[0m\n\u001b[0;32m-> 2374\u001b[0;31m             return Affine2D(np.dot(self._b.get_affine().get_matrix(),\n\u001b[0m\u001b[1;32m   2375\u001b[0m                                 self._a.get_affine().get_matrix()))\n\u001b[1;32m   2376\u001b[0m     \u001b[0mget_affine\u001b[0m\u001b[1;33m.\u001b[0m\u001b[0m__doc__\u001b[0m \u001b[1;33m=\u001b[0m \u001b[0mTransform\u001b[0m\u001b[1;33m.\u001b[0m\u001b[0mget_affine\u001b[0m\u001b[1;33m.\u001b[0m\u001b[0m__doc__\u001b[0m\u001b[1;33m\u001b[0m\u001b[0m\n",
      "\u001b[0;32mC:\\Users\\KWW\\Anaconda3\\lib\\site-packages\\matplotlib\\transforms.py\u001b[0m in \u001b[0;36mget_affine\u001b[0;34m(self)\u001b[0m\n\u001b[1;32m   2373\u001b[0m         \u001b[1;32melse\u001b[0m\u001b[1;33m:\u001b[0m\u001b[1;33m\u001b[0m\u001b[0m\n\u001b[1;32m   2374\u001b[0m             return Affine2D(np.dot(self._b.get_affine().get_matrix(),\n\u001b[0;32m-> 2375\u001b[0;31m                                 self._a.get_affine().get_matrix()))\n\u001b[0m\u001b[1;32m   2376\u001b[0m     \u001b[0mget_affine\u001b[0m\u001b[1;33m.\u001b[0m\u001b[0m__doc__\u001b[0m \u001b[1;33m=\u001b[0m \u001b[0mTransform\u001b[0m\u001b[1;33m.\u001b[0m\u001b[0mget_affine\u001b[0m\u001b[1;33m.\u001b[0m\u001b[0m__doc__\u001b[0m\u001b[1;33m\u001b[0m\u001b[0m\n\u001b[1;32m   2377\u001b[0m \u001b[1;33m\u001b[0m\u001b[0m\n",
      "\u001b[0;31mKeyboardInterrupt\u001b[0m: "
     ]
    }
   ],
   "source": [
    "viz_csv(rmn_traj, rmn_descs, min_length=10, max_viz=True, fig_dir='figs/', smallest_shift=1)"
   ]
  },
  {
   "cell_type": "code",
   "execution_count": 24,
   "metadata": {
    "collapsed": false
   },
   "outputs": [
    {
     "data": {
      "text/plain": [
       "dict"
      ]
     },
     "execution_count": 24,
     "metadata": {},
     "output_type": "execute_result"
    }
   ],
   "source": [
    "type(rmn_traj)"
   ]
  },
  {
   "cell_type": "code",
   "execution_count": null,
   "metadata": {
    "collapsed": true
   },
   "outputs": [],
   "source": []
  }
 ],
 "metadata": {
  "anaconda-cloud": {},
  "kernelspec": {
   "display_name": "Python [conda root]",
   "language": "python",
   "name": "conda-root-py"
  },
  "language_info": {
   "codemirror_mode": {
    "name": "ipython",
    "version": 3
   },
   "file_extension": ".py",
   "mimetype": "text/x-python",
   "name": "python",
   "nbconvert_exporter": "python",
   "pygments_lexer": "ipython3",
   "version": "3.5.2"
  }
 },
 "nbformat": 4,
 "nbformat_minor": 1
}
